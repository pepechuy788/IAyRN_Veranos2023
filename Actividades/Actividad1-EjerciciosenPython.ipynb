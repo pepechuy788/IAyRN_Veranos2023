{
  "nbformat": 4,
  "nbformat_minor": 0,
  "metadata": {
    "colab": {
      "provenance": [],
      "authorship_tag": "ABX9TyMNZIm2T4zZWltSzZI5oV+S",
      "include_colab_link": true
    },
    "kernelspec": {
      "name": "python3",
      "display_name": "Python 3"
    },
    "language_info": {
      "name": "python"
    }
  },
  "cells": [
    {
      "cell_type": "markdown",
      "metadata": {
        "id": "view-in-github",
        "colab_type": "text"
      },
      "source": [
        "<a href=\"https://colab.research.google.com/github/pepechuy788/IAyRN_Veranos2023/blob/main/Actividad1-EjerciciosenPython.ipynb\" target=\"_parent\"><img src=\"https://colab.research.google.com/assets/colab-badge.svg\" alt=\"Open In Colab\"/></a>"
      ]
    },
    {
      "cell_type": "code",
      "execution_count": 47,
      "metadata": {
        "colab": {
          "base_uri": "https://localhost:8080/"
        },
        "id": "LfuGzZfZwz5S",
        "outputId": "279bdc6b-0ece-4914-b80e-a98146d42503"
      },
      "outputs": [
        {
          "output_type": "stream",
          "name": "stdout",
          "text": [
            "¡Sumador de 2 numeros! \n",
            " Jose de Jesus Lozano Gutierrez 1925844 \n",
            " \n",
            "Dame el primer numero: \n",
            " 5\n",
            "Dame el segundo numero: \n",
            " 15\n",
            "la suma es:  20\n"
          ]
        }
      ],
      "source": [
        "#Programa 1 para sumar 2 numeros (sin condicionales)\n",
        "print(\"¡Sumador de 2 numeros! \\n Jose de Jesus Lozano Gutierrez 1925844 \\n \")\n",
        "\n",
        "#Solicitamos los valores al usuario\n",
        "Primer_numero = input(\"Dame el primer numero: \\n \" )\n",
        "Segundo_numero = input(\"Dame el segundo numero: \\n \")\n",
        "\n",
        "#Convertimos los valores a enteros ya que lo recibe como str y asi no se puede sumar\n",
        "Primer_numero = int (Primer_numero)\n",
        "Segundo_numero = int (Segundo_numero)\n",
        "\n",
        "#Realizamos la suma e imprimimos\n",
        "Suma = Primer_numero + Segundo_numero\n",
        "print(\"la suma es: \", Suma)"
      ]
    },
    {
      "cell_type": "code",
      "source": [
        "#Programa 2 para sacar el factorial de un numero solicitado por el usuario\n",
        "\n",
        "print(\"Programa para sacar el factorial de un numero \\n Jose de Jesus Lozano Gutierrez 1925844 \\n \")\n",
        "#Mandamos pedir el numero y convertimos a valor numerico entero\n",
        "Numero = input(\"Ingrese el numero: \\n \")\n",
        "Numero = int(Numero)\n",
        "\n",
        "#definimos la nueva funcion\n",
        "def factorial(Numero):\n",
        "  #Analizamos si el numero es negativo como seguridad ya que solo se trabaja con positivos\n",
        "    if Numero < 0:\n",
        "        print(\"No se puede sacar factorial a numeros negativos...\")\n",
        "\n",
        "  #Hacemos otra comparativa por si el valor ingresado es igual a 0\n",
        "    elif Numero == 0:\n",
        "        return 1\n",
        "  #Realizamos las operaciones de multiplicacion para la factorial\n",
        "    else:\n",
        "        fact = 1\n",
        "        while(Numero > 1):\n",
        "            fact *= Numero\n",
        "            Numero -= 1\n",
        "        return fact\n",
        "\n",
        "#imprimimos el resultado al usuario\n",
        "print(\"El numero factorial de \",Numero,\"es: \", factorial(Numero))"
      ],
      "metadata": {
        "colab": {
          "base_uri": "https://localhost:8080/"
        },
        "id": "ZH-VhhIhz9cn",
        "outputId": "75916aca-4672-45de-8402-edd0d687ae45"
      },
      "execution_count": 6,
      "outputs": [
        {
          "output_type": "stream",
          "name": "stdout",
          "text": [
            "Programa para sacar el factorial de un numero \n",
            " Jose de Jesus Lozano Gutierrez 1925844 \n",
            " \n",
            "Ingrese el numero: \n",
            " 5\n",
            "El numero factorial de  5 es:  120\n"
          ]
        }
      ]
    },
    {
      "cell_type": "code",
      "source": [
        "#Programa 3 que solicita una lista de elementos al usuario y busca un elemento en especifico y te avisa en que posicion se encuentra\n",
        "\n",
        "print(\"Programa que crea una lista y busca un elemento diciendo en que posicion se encuentra \\n Jose de Jesus Lozano Gutierrez 1925844 \\n \")\n",
        "\n",
        "#Definimos la nueva variable:\n",
        "def buscar_elemento():\n",
        "  #Solicitamos los datos a ingresar y el elemento a buscar\n",
        "    lista = input(\"Ingresa una lista de elementos separados por espacios: \").split() #se usa el split para eliminar los espacios y que se cree en formato de lista\n",
        "    elemento = input(\"Ingresa el elemento que deseas buscar: \")\n",
        "\n",
        "    try:\n",
        "        posicion = lista.index(elemento) #El método devuelve el índice del elemento dado en la lista\n",
        "        print(f\"El elemento '{elemento}' se encuentra en la posición {posicion} de la lista.\")\n",
        "\n",
        "    except ValueError: #Si no se encuentra el elemento, se genera una excepción\n",
        "        print(f\"El elemento '{elemento}' no se encuentra en la lista.\")\n",
        "\n",
        "buscar_elemento()\n"
      ],
      "metadata": {
        "colab": {
          "base_uri": "https://localhost:8080/"
        },
        "id": "vSPLE0VX_0z-",
        "outputId": "7c79e56c-ab77-4121-9199-55eef0a178fc"
      },
      "execution_count": 6,
      "outputs": [
        {
          "output_type": "stream",
          "name": "stdout",
          "text": [
            "Programa que crea una lista y busca un elemento diciendo en que posicion se encuentra \n",
            " Jose de Jesus Lozano Gutierrez 1925844 \n",
            " \n",
            "Ingresa una lista de elementos separados por espacios: jsjs jdjd 8 15 lo\n",
            "Ingresa el elemento que deseas buscar: 15\n",
            "El elemento '15' se encuentra en la posición 3 de la lista.\n"
          ]
        }
      ]
    },
    {
      "cell_type": "code",
      "source": [
        "#Programa 4 que revisa si un texto es palidromo o no\n",
        "print(\"Programa para revisar si un texto es polidromo o no \\n Jose de Jesus Lozano Gutierrez 1925844 \\n \")\n",
        "\n",
        "cadena_texto = input(\"ingrese la frase a analizar: \\n \")\n",
        "def es_palindromo(cadena):\n",
        "    # Convertir la cadena a minúsculas y eliminar espacios en blanco\n",
        "    cadena = cadena.lower().replace(\" \", \"\")\n",
        "\n",
        "    # Comparar la cadena original con su reverso\n",
        "    if cadena == cadena[::-1]:\n",
        "        return True\n",
        "    else:\n",
        "        return False\n",
        "\n",
        "#Imprimir el resultado dependiendo el resultado\n",
        "if es_palindromo(cadena_texto):\n",
        "    print(\"La frase '\", cadena_texto, \"' es un palíndromo.\")\n",
        "else:\n",
        "    print(\"La frase '\", cadena_texto, \"' no es un palíndromo.\")\n"
      ],
      "metadata": {
        "colab": {
          "base_uri": "https://localhost:8080/"
        },
        "id": "HpFx6YKoK1gV",
        "outputId": "54ce4899-fcf2-49aa-eeac-8edb9337b653"
      },
      "execution_count": 7,
      "outputs": [
        {
          "output_type": "stream",
          "name": "stdout",
          "text": [
            "Programa para revisar si un texto es polidromo o no \n",
            " Jose de Jesus Lozano Gutierrez 1925844 \n",
            " \n",
            "ingrese la frase a analizar: \n",
            " anita lava la tina\n",
            "La frase ' anita lava la tina ' es un palíndromo.\n"
          ]
        }
      ]
    }
  ]
}