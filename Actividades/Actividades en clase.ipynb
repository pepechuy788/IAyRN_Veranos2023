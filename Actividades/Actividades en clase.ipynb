{
  "nbformat": 4,
  "nbformat_minor": 0,
  "metadata": {
    "colab": {
      "provenance": [],
      "authorship_tag": "ABX9TyNut2OHO1g0h77vm3oqmasE",
      "include_colab_link": true
    },
    "kernelspec": {
      "name": "python3",
      "display_name": "Python 3"
    },
    "language_info": {
      "name": "python"
    }
  },
  "cells": [
    {
      "cell_type": "markdown",
      "metadata": {
        "id": "view-in-github",
        "colab_type": "text"
      },
      "source": [
        "<a href=\"https://colab.research.google.com/github/pepechuy788/IAyRN_Veranos2023/blob/main/Actividades/Actividades%20en%20clase.ipynb\" target=\"_parent\"><img src=\"https://colab.research.google.com/assets/colab-badge.svg\" alt=\"Open In Colab\"/></a>"
      ]
    },
    {
      "cell_type": "code",
      "execution_count": 1,
      "metadata": {
        "colab": {
          "base_uri": "https://localhost:8080/"
        },
        "id": "nGExibqVA1ma",
        "outputId": "d4cb0732-a1d7-411b-814f-ee6bf53dcf40"
      },
      "outputs": [
        {
          "output_type": "stream",
          "name": "stdout",
          "text": [
            "Dame el numero \n",
            " 1565\n",
            "Es impar\n"
          ]
        }
      ],
      "source": [
        "Numero = input(\"Dame el numero \\n \")\n",
        "Numero = int(Numero)\n",
        "\n",
        "R = Numero%2\n",
        "if R == 0:\n",
        "  print(\"Es par\")\n",
        "\n",
        "else:\n",
        " print(\"Es impar\")"
      ]
    },
    {
      "cell_type": "code",
      "source": [
        "numeros = input(\"Ingresa una lista de números separados por espacios: \")\n",
        "\n",
        "numeros = numeros.split()\n",
        "\n",
        "numeros = [int(otra) for otra in numeros]\n",
        "\n",
        "print(numeros[::-1])\n"
      ],
      "metadata": {
        "colab": {
          "base_uri": "https://localhost:8080/"
        },
        "id": "WUJrRmzkA_yG",
        "outputId": "a529b447-5c63-4ffe-ac0a-9a43ac37f2ea"
      },
      "execution_count": 2,
      "outputs": [
        {
          "output_type": "stream",
          "name": "stdout",
          "text": [
            "Ingresa una lista de números separados por espacios: 5 8 3 4 8 1\n",
            "[1, 8, 4, 3, 8, 5]\n"
          ]
        }
      ]
    },
    {
      "cell_type": "code",
      "source": [
        "import random\n",
        "\n",
        "def adivinar_numero():\n",
        "    numero_secreto = random.randint(1, 100)\n",
        "    intentos = 0\n",
        "\n",
        "    print(\"¡Bienvenido! Estoy pensando en un número entre 1 y 100. ¿Puedes adivinar cuál es?\")\n",
        "\n",
        "    while True:\n",
        "        intento = int(input(\"Introduce tu suposición: \"))\n",
        "        intentos += 1\n",
        "\n",
        "        if intento < numero_secreto:\n",
        "            print(\"El número secreto es mayor. Sigue intentando.\")\n",
        "        elif intento > numero_secreto:\n",
        "            print(\"El número secreto es menor. Sigue intentando.\")\n",
        "        else:\n",
        "            print(f\"¡Felicitaciones! Adivinaste el número secreto en {intentos} intentos.\")\n",
        "            break\n",
        "\n",
        "adivinar_numero()\n"
      ],
      "metadata": {
        "colab": {
          "base_uri": "https://localhost:8080/"
        },
        "id": "rZAR400BBGlf",
        "outputId": "df5d7cd8-b5a7-4a39-aecb-6973bfb12a94"
      },
      "execution_count": 6,
      "outputs": [
        {
          "output_type": "stream",
          "name": "stdout",
          "text": [
            "¡Bienvenido! Estoy pensando en un número entre 1 y 100. ¿Puedes adivinar cuál es?\n",
            "Introduce tu suposición: 70\n",
            "El número secreto es mayor. Sigue intentando.\n",
            "Introduce tu suposición: 80\n",
            "El número secreto es mayor. Sigue intentando.\n",
            "Introduce tu suposición: 90\n",
            "El número secreto es mayor. Sigue intentando.\n",
            "Introduce tu suposición: 99\n",
            "El número secreto es menor. Sigue intentando.\n",
            "Introduce tu suposición: 95\n",
            "¡Felicitaciones! Adivinaste el número secreto en 5 intentos.\n"
          ]
        }
      ]
    }
  ]
}